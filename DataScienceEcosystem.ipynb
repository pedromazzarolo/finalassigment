{
  "metadata": {
    "kernelspec": {
      "name": "python",
      "display_name": "Python (Pyodide)",
      "language": "python"
    },
    "language_info": {
      "codemirror_mode": {
        "name": "python",
        "version": 3
      },
      "file_extension": ".py",
      "mimetype": "text/x-python",
      "name": "python",
      "nbconvert_exporter": "python",
      "pygments_lexer": "ipython3",
      "version": "3.8"
    }
  },
  "nbformat_minor": 5,
  "nbformat": 4,
  "cells": [
    {
      "id": "65e6a545-3e14-454d-879a-ee22c5eb832e",
      "cell_type": "markdown",
      "source": "# Data Science Tools and Ecosystem",
      "metadata": {}
    },
    {
      "id": "0501ab13-ae22-4c5f-8756-64dcf1af18d0",
      "cell_type": "markdown",
      "source": "In this notebook, Data Science Tools and Ecosystem are summarized.",
      "metadata": {}
    },
    {
      "id": "10c08337-337b-4d0b-b3b9-0bf380dad698",
      "cell_type": "markdown",
      "source": "**Objectives:**\n- List popular languages for Data Science\n- List commonly used libraries for Data Science\n- Introduce open-source tools for Data Science\n- Perform simple arithmetic operations",
      "metadata": {}
    },
    {
      "id": "8cbf3411-a4e8-4926-bfb5-22bee455c37d",
      "cell_type": "markdown",
      "source": "Some of the popular languages that Data Scientists use are:\n 1. Python\n 2. R\n 3. SQL\n 4. Julia",
      "metadata": {}
    },
    {
      "id": "cad7da21-a39a-4887-a292-c304721fafe5",
      "cell_type": "markdown",
      "source": "Some of the commonly used libraries used by Data Scientists include:\n\n1. Pandas\n2. NumPy\n3. Matplotlib\n4. Scikit-learn",
      "metadata": {}
    },
    {
      "id": "9617b4d8-9699-4114-ab92-27b9ce149089",
      "cell_type": "markdown",
      "source": "| Data Science Tools        |\n|--------------------------|\n| Jupyter Notebook         |\n| RStudio                  |\n| Google Colab             |",
      "metadata": {}
    },
    {
      "id": "1c18fd98-1aa8-4ca9-b1ed-2a08c09215bd",
      "cell_type": "markdown",
      "source": "### Below are a few examples of evaluating arithmetic expressions in Python.\n\n",
      "metadata": {}
    },
    {
      "id": "ab0233d5-c2d4-4cde-8c45-d745e48edf25",
      "cell_type": "code",
      "source": "#This a simple arithmetic expression to mutiply then add integers\n(3*4)+5",
      "metadata": {
        "trusted": true
      },
      "outputs": [
        {
          "execution_count": 4,
          "output_type": "execute_result",
          "data": {
            "text/plain": "17"
          },
          "metadata": {}
        }
      ],
      "execution_count": 4
    },
    {
      "id": "a01bd371-0c1e-4d1b-b58b-718fb8eb0c29",
      "cell_type": "code",
      "source": "#This will convert 200 minutes to hours by diving by 60\n200/60",
      "metadata": {
        "trusted": true
      },
      "outputs": [
        {
          "execution_count": 5,
          "output_type": "execute_result",
          "data": {
            "text/plain": "3.3333333333333335"
          },
          "metadata": {}
        }
      ],
      "execution_count": 5
    },
    {
      "id": "36befc43-c9cb-4bfb-9613-affba750a9e3",
      "cell_type": "markdown",
      "source": "## Author \nPedro Mazzarolo",
      "metadata": {}
    },
    {
      "id": "ccb45a31-ff4d-402d-b8bd-d584c71320e7",
      "cell_type": "code",
      "source": "",
      "metadata": {
        "trusted": true
      },
      "outputs": [],
      "execution_count": null
    }
  ]
}